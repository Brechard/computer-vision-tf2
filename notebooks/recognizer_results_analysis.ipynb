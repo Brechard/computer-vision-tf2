{
 "cells": [
  {
   "cell_type": "markdown",
   "metadata": {},
   "source": [
    "**Import libraries**"
   ]
  },
  {
   "cell_type": "code",
   "execution_count": 1,
   "metadata": {
    "pycharm": {
     "is_executing": false,
     "name": "#%%\n"
    }
   },
   "outputs": [],
   "source": [
    "import matplotlib.pyplot as plt\n",
    "import numpy as np\n",
    "import pandas as pd\n",
    "\n",
    "import constants\n",
    "import helpers"
   ]
  },
  {
   "cell_type": "markdown",
   "metadata": {
    "pycharm": {
     "name": "#%% md\n"
    }
   },
   "source": [
    "**Load the figures folder path and create it if it doesn't exist**"
   ]
  },
  {
   "cell_type": "code",
   "execution_count": 2,
   "metadata": {
    "pycharm": {
     "is_executing": false,
     "name": "#%%\n"
    }
   },
   "outputs": [],
   "source": [
    "figs_folder = constants.REPORTS_FIGS_PATH + 'recognizer analysis/'\n",
    "helpers.dir_exists(figs_folder)"
   ]
  },
  {
   "cell_type": "markdown",
   "metadata": {},
   "source": [
    "**Read the csv file with the analysis of the training**"
   ]
  },
  {
   "cell_type": "code",
   "execution_count": 3,
   "metadata": {
    "pycharm": {
     "is_executing": false,
     "name": "#%%\n"
    }
   },
   "outputs": [
    {
     "data": {
      "text/html": [
       "<div>\n",
       "<style scoped>\n",
       "    .dataframe tbody tr th:only-of-type {\n",
       "        vertical-align: middle;\n",
       "    }\n",
       "\n",
       "    .dataframe tbody tr th {\n",
       "        vertical-align: top;\n",
       "    }\n",
       "\n",
       "    .dataframe thead th {\n",
       "        text-align: right;\n",
       "    }\n",
       "</style>\n",
       "<table border=\"1\" class=\"dataframe\">\n",
       "  <thead>\n",
       "    <tr style=\"text-align: right;\">\n",
       "      <th></th>\n",
       "      <th>model</th>\n",
       "      <th>scheduler</th>\n",
       "      <th>img_res</th>\n",
       "      <th>initial_lr</th>\n",
       "      <th>max_train_acc</th>\n",
       "      <th>max_val_acc</th>\n",
       "      <th>test_acc</th>\n",
       "    </tr>\n",
       "  </thead>\n",
       "  <tbody>\n",
       "    <tr>\n",
       "      <td>0</td>\n",
       "      <td>mini</td>\n",
       "      <td>constant</td>\n",
       "      <td>30</td>\n",
       "      <td>0.001</td>\n",
       "      <td>0.805492</td>\n",
       "      <td>0.618878</td>\n",
       "      <td>0.735890</td>\n",
       "    </tr>\n",
       "    <tr>\n",
       "      <td>1</td>\n",
       "      <td>mini</td>\n",
       "      <td>constant</td>\n",
       "      <td>30</td>\n",
       "      <td>0.001</td>\n",
       "      <td>0.783842</td>\n",
       "      <td>0.597194</td>\n",
       "      <td>0.716119</td>\n",
       "    </tr>\n",
       "    <tr>\n",
       "      <td>2</td>\n",
       "      <td>mini</td>\n",
       "      <td>constant</td>\n",
       "      <td>30</td>\n",
       "      <td>0.001</td>\n",
       "      <td>0.799938</td>\n",
       "      <td>0.619898</td>\n",
       "      <td>0.731107</td>\n",
       "    </tr>\n",
       "    <tr>\n",
       "      <td>3</td>\n",
       "      <td>mini</td>\n",
       "      <td>constant</td>\n",
       "      <td>30</td>\n",
       "      <td>0.001</td>\n",
       "      <td>0.800051</td>\n",
       "      <td>0.605612</td>\n",
       "      <td>0.719866</td>\n",
       "    </tr>\n",
       "    <tr>\n",
       "      <td>4</td>\n",
       "      <td>mini</td>\n",
       "      <td>constant</td>\n",
       "      <td>30</td>\n",
       "      <td>0.001</td>\n",
       "      <td>0.791266</td>\n",
       "      <td>0.610204</td>\n",
       "      <td>0.717714</td>\n",
       "    </tr>\n",
       "    <tr>\n",
       "      <td>...</td>\n",
       "      <td>...</td>\n",
       "      <td>...</td>\n",
       "      <td>...</td>\n",
       "      <td>...</td>\n",
       "      <td>...</td>\n",
       "      <td>...</td>\n",
       "      <td>...</td>\n",
       "    </tr>\n",
       "    <tr>\n",
       "      <td>275</td>\n",
       "      <td>v0.3</td>\n",
       "      <td>constant</td>\n",
       "      <td>50</td>\n",
       "      <td>0.001</td>\n",
       "      <td>0.982572</td>\n",
       "      <td>0.886990</td>\n",
       "      <td>0.937737</td>\n",
       "    </tr>\n",
       "    <tr>\n",
       "      <td>276</td>\n",
       "      <td>v0.3</td>\n",
       "      <td>constant</td>\n",
       "      <td>50</td>\n",
       "      <td>0.001</td>\n",
       "      <td>0.983139</td>\n",
       "      <td>0.885204</td>\n",
       "      <td>0.938684</td>\n",
       "    </tr>\n",
       "    <tr>\n",
       "      <td>277</td>\n",
       "      <td>v0.3</td>\n",
       "      <td>constant</td>\n",
       "      <td>50</td>\n",
       "      <td>0.001</td>\n",
       "      <td>0.974893</td>\n",
       "      <td>0.855867</td>\n",
       "      <td>0.930950</td>\n",
       "    </tr>\n",
       "    <tr>\n",
       "      <td>278</td>\n",
       "      <td>v0.3</td>\n",
       "      <td>constant</td>\n",
       "      <td>50</td>\n",
       "      <td>0.001</td>\n",
       "      <td>0.971294</td>\n",
       "      <td>0.855102</td>\n",
       "      <td>0.922822</td>\n",
       "    </tr>\n",
       "    <tr>\n",
       "      <td>279</td>\n",
       "      <td>v0.3</td>\n",
       "      <td>constant</td>\n",
       "      <td>50</td>\n",
       "      <td>0.001</td>\n",
       "      <td>0.974581</td>\n",
       "      <td>0.855357</td>\n",
       "      <td>0.927951</td>\n",
       "    </tr>\n",
       "  </tbody>\n",
       "</table>\n",
       "<p>280 rows × 7 columns</p>\n",
       "</div>"
      ],
      "text/plain": [
       "    model scheduler  img_res  initial_lr  max_train_acc  max_val_acc  test_acc\n",
       "0    mini  constant       30       0.001       0.805492     0.618878  0.735890\n",
       "1    mini  constant       30       0.001       0.783842     0.597194  0.716119\n",
       "2    mini  constant       30       0.001       0.799938     0.619898  0.731107\n",
       "3    mini  constant       30       0.001       0.800051     0.605612  0.719866\n",
       "4    mini  constant       30       0.001       0.791266     0.610204  0.717714\n",
       "..    ...       ...      ...         ...            ...          ...       ...\n",
       "275  v0.3  constant       50       0.001       0.982572     0.886990  0.937737\n",
       "276  v0.3  constant       50       0.001       0.983139     0.885204  0.938684\n",
       "277  v0.3  constant       50       0.001       0.974893     0.855867  0.930950\n",
       "278  v0.3  constant       50       0.001       0.971294     0.855102  0.922822\n",
       "279  v0.3  constant       50       0.001       0.974581     0.855357  0.927951\n",
       "\n",
       "[280 rows x 7 columns]"
      ]
     },
     "execution_count": 3,
     "metadata": {},
     "output_type": "execute_result"
    }
   ],
   "source": [
    "recognizer_analysis = pd.read_csv(constants.REPORTS_PATH + 'recognizer_analysis.csv')\n",
    "recognizer_analysis = recognizer_analysis[recognizer_analysis['augmentation'] == 'simple'].drop('augmentation', axis=1)\n",
    "recognizer_analysis"
   ]
  },
  {
   "cell_type": "markdown",
   "metadata": {
    "pycharm": {
     "name": "#%% md\n"
    }
   },
   "source": [
    "**Function to create an amazing bar plot**"
   ]
  },
  {
   "cell_type": "code",
   "execution_count": 4,
   "metadata": {
    "pycharm": {
     "is_executing": false,
     "name": "#%%\n"
    }
   },
   "outputs": [],
   "source": [
    "def plot_amazing_bar_plot_columns(df: pd.DataFrame, columns: list, xlabel: str, ylabel: str, title: str):\n",
    "    \"\"\"\n",
    "    Plot a beautiful bar plot, accepting several bars per element (maximum of 4). The figures are saved in\n",
    "    the folder of the variable 'figs_folder'\n",
    "    :param df: DataFrame\n",
    "    :param columns: list with the columns to get the data for each bar per element.\n",
    "    :param xlabel: label for the axis X.\n",
    "    :param ylabel: label for the axis Y.\n",
    "    :param title: Title of the plot, also used to name the file where it will be saved.\n",
    "    \"\"\"\n",
    "\n",
    "    fig, ax = plt.subplots(1)\n",
    "    my_range= (len(columns) + 1) * np.array(range(0, len(df.index)))\n",
    "    colors = ['#00FF00', '#FF0000', '#007ACC', '#000000']\n",
    "    if len(columns) < 3:\n",
    "        colors = ['#007ACC', '#00FF00']\n",
    "    for i, column in enumerate(columns):\n",
    "        # create for each expense type an horizontal line that starts at x = 0 with the length \n",
    "        # represented by the specific expense percentage value.\n",
    "        extra_pos = i % len(columns)\n",
    "        plt.hlines(y=my_range + extra_pos, xmin=0, xmax=df[column], color=colors[extra_pos], alpha=0.2, linewidth=5, \n",
    "                   label=column.replace('_', ' ').capitalize())\n",
    "        \n",
    "        # create for each line a dot at the end of it\n",
    "        plt.plot(df[column], my_range + extra_pos, \"o\", markersize=5, color=colors[extra_pos], alpha=0.6)\n",
    "        \n",
    "    # set labels\n",
    "    ax.set_xlabel(xlabel, fontsize=12, fontweight='black', color = '#333F4B')\n",
    "    ax.set_ylabel('')\n",
    "    \n",
    "    # set axis\n",
    "    ax.tick_params(axis='both', which='major', labelsize=12)\n",
    "    plt.yticks(my_range + (1 if len(columns) > 1 else 0), df.index)\n",
    "    \n",
    "    # add an horizonal label for the y axis \n",
    "    fig.text(-0.1, 0.9, ylabel, fontsize=12, fontweight='black', color = '#333F4B')\n",
    "    \n",
    "\n",
    "    # change the style of the axis spines\n",
    "    ax.spines['top'].set_color('none')\n",
    "    ax.spines['right'].set_color('none')\n",
    "    ax.spines['left'].set_smart_bounds(True)\n",
    "    ax.spines['bottom'].set_smart_bounds(True)\n",
    "    \n",
    "    # set the spines position\n",
    "    ax.spines['bottom'].set_position(('axes', -0.04))\n",
    "    ax.spines['left'].set_position(('axes', 0.015))\n",
    "    \n",
    "    fig_path = figs_folder + title.lower().replace(' ', '-') + '-' + '-'.join(columns).replace('_', '-') + '.png'\n",
    "    if len(columns) > 1:\n",
    "        plt.legend(bbox_to_anchor=(0., 1.02, 1., .102), loc='lower left',\n",
    "                   ncol=len(columns), mode=\"expand\", borderaxespad=0.)\n",
    "    plt.savefig(fig_path, dpi=300, bbox_inches='tight')\n",
    "\n",
    "    # add title after saving the figure so it can be used in the LaTeX report\n",
    "    fig.text(0.25, 1, title, fontsize=15, fontweight='black', color = '#333F4B')\n",
    "    plt.show()"
   ]
  },
  {
   "cell_type": "markdown",
   "metadata": {},
   "source": [
    "**Function to get a dataframe grouped by model, selecting a column that has a particular value.\n",
    "Ordering by the test accuracy in ascending or descending order**"
   ]
  },
  {
   "cell_type": "code",
   "execution_count": 5,
   "metadata": {
    "pycharm": {
     "is_executing": false,
     "name": "#%%\n"
    }
   },
   "outputs": [],
   "source": [
    "def get_mean_with_column_value(df, column='img_res', value=50, ascending=True, sort_by='test_acc'):\n",
    "    df = df[df[column] == value].groupby('model').mean()\n",
    "    if sort_by:\n",
    "        return df.sort_values(by=sort_by, ascending=ascending)\n",
    "    else:\n",
    "        return df.sort_index(ascending=ascending)"
   ]
  },
  {
   "cell_type": "markdown",
   "metadata": {},
   "source": [
    "**Compare the models test accuracy in different graphs for the different resolutions**"
   ]
  },
  {
   "cell_type": "code",
   "execution_count": 6,
   "metadata": {
    "pycharm": {
     "is_executing": false,
     "name": "#%%\n"
    }
   },
   "outputs": [
    {
     "data": {
      "image/png": "[encoded data removed]",
      "text/plain": [
       "<Figure size 432x288 with 1 Axes>"
      ]
     },
     "metadata": {
      "needs_background": "light"
     },
     "output_type": "display_data"
    },
    {
     "name": "stdout",
     "output_type": "stream",
     "text": [
      "Image resolution of 30px. Maximum test accuracy of 93.12 % obtained by the model: mod_bn_reg\n"
     ]
    },
    {
     "data": {
      "image/png": "[encoded data removed]",
      "text/plain": [
       "<Figure size 432x288 with 1 Axes>"
      ]
     },
     "metadata": {
      "needs_background": "light"
     },
     "output_type": "display_data"
    },
    {
     "name": "stdout",
     "output_type": "stream",
     "text": [
      "Image resolution of 50px. Maximum test accuracy of 96.49 % obtained by the model: mod_bn\n"
     ]
    }
   ],
   "source": [
    "mean_df = get_mean_with_column_value(recognizer_analysis, 'img_res', 30)\n",
    "plot_amazing_bar_plot_columns(mean_df, columns=['test_acc'], xlabel='Test accuracy',  ylabel='Model', \n",
    "                      title='Image resolution of 30px')\n",
    "print(\"Image resolution of 30px. Maximum test accuracy of {:.2f} % obtained by the model: {}\"\n",
    "      .format(100 * mean_df['test_acc'].max(), mean_df['test_acc'].idxmax()))\n",
    "\n",
    "mean_df = get_mean_with_column_value(recognizer_analysis, 'img_res', 50)\n",
    "plot_amazing_bar_plot_columns(mean_df, columns=['test_acc'], xlabel='Test accuracy',  ylabel='Model', \n",
    "                      title='Image resolution of 50px')\n",
    "print(\"Image resolution of 50px. Maximum test accuracy of {:.2f} % obtained by the model: {}\"\n",
    "      .format(100 * mean_df['test_acc'].max(), mean_df['test_acc'].idxmax()))"
   ]
  },
  {
   "cell_type": "code",
   "execution_count": 7,
   "metadata": {
    "pycharm": {
     "is_executing": false,
     "name": "#%%\n"
    }
   },
   "outputs": [
    {
     "data": {
      "image/png": "[encoded data removed]",
      "text/plain": [
       "<Figure size 432x288 with 1 Axes>"
      ]
     },
     "metadata": {
      "needs_background": "light"
     },
     "output_type": "display_data"
    },
    {
     "data": {
      "image/png": "[encoded data removed]",
      "text/plain": [
       "<Figure size 432x288 with 1 Axes>"
      ]
     },
     "metadata": {
      "needs_background": "light"
     },
     "output_type": "display_data"
    }
   ],
   "source": [
    "mean_df = get_mean_with_column_value(recognizer_analysis, 'img_res', 30, ascending=False, sort_by=None)\n",
    "plot_amazing_bar_plot_columns(mean_df, columns=['max_train_acc', 'max_val_acc', 'test_acc'], \n",
    "                              xlabel='Accuracy',  ylabel='Model', title='Image resolution of 30px')\n",
    "mean_df = get_mean_with_column_value(recognizer_analysis, 'img_res', 50, ascending=False, sort_by=None)\n",
    "plot_amazing_bar_plot_columns(mean_df, columns=['max_train_acc', 'max_val_acc', 'test_acc'], \n",
    "                              xlabel='Accuracy',  ylabel='Model', title='Image resolution of 50px')\n"
   ]
  },
  {
   "cell_type": "markdown",
   "metadata": {},
   "source": [
    "## From now on we will only work with image resolution of 50 pixels"
   ]
  },
  {
   "cell_type": "code",
   "execution_count": 8,
   "metadata": {
    "pycharm": {
     "is_executing": false,
     "name": "#%%\n"
    }
   },
   "outputs": [],
   "source": [
    "recognizer_analysis_50 = recognizer_analysis[recognizer_analysis['img_res'] == 50]"
   ]
  },
  {
   "cell_type": "markdown",
   "metadata": {},
   "source": [
    "We create a new measure to check which models may be more interesting, efficiency, \n",
    "as the test accuracy divided by the number of parameter of the model. \n",
    "We then normalize them so they can be presented in the same graph as the test accuracy."
   ]
  },
  {
   "cell_type": "code",
   "execution_count": 9,
   "metadata": {
    "pycharm": {
     "is_executing": false,
     "name": "#%%\n"
    }
   },
   "outputs": [],
   "source": [
    "from models.recognition import recognizer_all\n",
    "\n",
    "n_params_50 = {}\n",
    "n_params_30 = {}\n",
    "for version in recognizer_all.versions:\n",
    "    model = recognizer_all.Recognizer(dataset_name='COCO', img_res=50, train=False, model_version=version)\n",
    "    n_params_50[version] = model.train_model.count_params()\n",
    "    model = recognizer_all.Recognizer(dataset_name='COCO', img_res=30, train=False, model_version=version)\n",
    "    n_params_30[version] = model.train_model.count_params()\n",
    "\n",
    "\n",
    "n_params_50 = pd.Series(n_params_50, name='n_params')\n",
    "n_params_30 = pd.Series(n_params_30, name='n_params')"
   ]
  },
  {
   "cell_type": "code",
   "execution_count": 10,
   "metadata": {
    "pycharm": {
     "is_executing": false,
     "name": "#%%\n"
    }
   },
   "outputs": [
    {
     "data": {
      "image/png": "[encoded data removed]",
      "text/plain": [
       "<Figure size 432x288 with 1 Axes>"
      ]
     },
     "metadata": {
      "needs_background": "light"
     },
     "output_type": "display_data"
    }
   ],
   "source": [
    "mean_df = recognizer_analysis_50.groupby('model').mean().sort_values(by='test_acc', ascending=True)\n",
    "efficiency = mean_df['test_acc'] / n_params_50\n",
    "efficiency_normalized = efficiency / efficiency.max()\n",
    "new_df = pd.DataFrame([mean_df['test_acc'], efficiency_normalized]).transpose()\n",
    "new_df = new_df.rename(columns={'Unnamed 0':'efficiency'}).sort_values(by='efficiency')\n",
    "plot_amazing_bar_plot_columns(new_df, columns=new_df.columns, \n",
    "                              xlabel='Accuracy/Efficiency', ylabel='Model', title='Image resolution of 50px')"
   ]
  },
  {
   "cell_type": "markdown",
   "metadata": {
    "pycharm": {
     "name": "#%% md\n"
    }
   },
   "source": [
    "**Does the cosine decay scheduler improve the training?**"
   ]
  },
  {
   "cell_type": "code",
   "execution_count": 11,
   "metadata": {
    "pycharm": {
     "is_executing": false,
     "name": "#%%\n"
    }
   },
   "outputs": [
    {
     "data": {
      "image/png": "[encoded data removed]",
      "text/plain": [
       "<Figure size 432x288 with 1 Axes>"
      ]
     },
     "metadata": {
      "needs_background": "light"
     },
     "output_type": "display_data"
    },
    {
     "name": "stdout",
     "output_type": "stream",
     "text": [
      "Using the cosine decay scheduler improved the models on average 2.16 % in absolut percentage.\n"
     ]
    }
   ],
   "source": [
    "mean_df_cosine = get_mean_with_column_value(recognizer_analysis_50, 'scheduler', 'cosine')\n",
    "mean_df_const = get_mean_with_column_value(recognizer_analysis_50, 'scheduler', 'constant')\n",
    "values = (mean_df_cosine['test_acc'] - mean_df_const['test_acc']).sort_values() * 100\n",
    "\n",
    "y_range = list(range(len(values)))\n",
    "# plt.hlines(y=my_range + extra_pos, xmin=0, xmax=df[column], color=colors[extra_pos], alpha=0.2, linewidth=5, \n",
    "#                    label=column.replace('_', ' ').capitalize())\n",
    "        \n",
    "negative_improvement = values[values < 0]\n",
    "positive_improvement = values[values >= 0]\n",
    "\n",
    "fig, ax = plt.subplots(1)\n",
    "\n",
    "# Create the lines, green when positive improvement, red otherwise\n",
    "ax.hlines(y=y_range[:len(negative_improvement)], xmin=negative_improvement, xmax=0, color='r', alpha=0.2, linewidth=5)\n",
    "ax.hlines(y=y_range[len(negative_improvement):], xmin=0, xmax=positive_improvement, color='g', alpha=0.2, linewidth=5)\n",
    "\n",
    "# create for each line a dot at the end of it\n",
    "ax.plot(negative_improvement, y_range[:len(negative_improvement)], \"o\", markersize=5, color='r', alpha=0.6)\n",
    "ax.plot(positive_improvement, y_range[len(negative_improvement):], \"o\", markersize=5, color='g', alpha=0.6)\n",
    "\n",
    "# set labels\n",
    "ax.set_xlabel('absolute percentage %', fontsize=12, fontweight='black', color = '#333F4B')\n",
    "ax.set_ylabel('')\n",
    "\n",
    "# add an horizonal label for the y axis \n",
    "fig.text(-0.1, 0.9, 'Model', fontsize=12, fontweight='black', color = '#333F4B')\n",
    "\n",
    "# set axis\n",
    "plt.tick_params(axis='both', which='major', labelsize=12)\n",
    "plt.yticks(y_range, values.index)\n",
    "\n",
    "# change the style of the axis spines\n",
    "ax.spines['top'].set_color('none')\n",
    "ax.spines['right'].set_color('none')\n",
    "ax.spines['left'].set_smart_bounds(True)\n",
    "ax.spines['bottom'].set_smart_bounds(True)\n",
    "\n",
    "# set the spines position\n",
    "ax.spines['bottom'].set_position(('axes', -0.04))\n",
    "ax.spines['left'].set_position(('axes', 0.015))\n",
    "\n",
    "plt.savefig(figs_folder + 'improvement-test-acc-cosine-scheduler-50px.png', dpi=300, bbox_inches='tight')\n",
    "\n",
    "# add title after saving the figure\n",
    "fig.text(-0.15, 1, \"Improvement in test acc when using cosine scheduler\", fontsize=15, fontweight='black', color = '#333F4B')\n",
    "plt.show()\n",
    "\n",
    "print(\"Using the cosine decay scheduler improved the models on average {:.2f} % in absolut percentage.\".format(values.mean()))"
   ]
  },
  {
   "cell_type": "code",
   "execution_count": 12,
   "metadata": {
    "pycharm": {
     "is_executing": false,
     "name": "#%%\n"
    }
   },
   "outputs": [
    {
     "name": "stdout",
     "output_type": "stream",
     "text": [
      "\\begin{tabular}{lrrrr}\n",
      "\\toprule\n",
      "{} &  img\\_res &  max\\_train\\_acc &  max\\_val\\_acc &  test\\_acc \\\\\n",
      "model      &          &                &              &           \\\\\n",
      "\\midrule\n",
      "mod\\_bn\\_reg &       30 &       0.555106 &     0.542568 &  0.620807 \\\\\n",
      "mini\\_2     &       30 &       0.741415 &     0.681633 &  0.742282 \\\\\n",
      "mini       &       30 &       0.817847 &     0.629235 &  0.742738 \\\\\n",
      "v2         &       30 &       0.699734 &     0.548622 &  0.757278 \\\\\n",
      "v3         &       30 &       0.796925 &     0.640459 &  0.829735 \\\\\n",
      "v1         &       30 &       0.838275 &     0.694745 &  0.865936 \\\\\n",
      "mod        &       30 &       0.701400 &     0.712423 &  0.866861 \\\\\n",
      "v0.1       &       30 &       0.875961 &     0.722755 &  0.875821 \\\\\n",
      "v0.4       &       30 &       0.920103 &     0.795077 &  0.899354 \\\\\n",
      "v0.2       &       30 &       0.937346 &     0.767041 &  0.900263 \\\\\n",
      "v0         &       30 &       0.955045 &     0.793903 &  0.910730 \\\\\n",
      "v0.3       &       30 &       0.956618 &     0.824923 &  0.914615 \\\\\n",
      "mod\\_bn     &       30 &       0.807076 &     0.808622 &  0.925016 \\\\\n",
      "kaggle     &       30 &       0.861413 &     0.819541 &  0.927057 \\\\\n",
      "v2         &       50 &       0.764845 &     0.509209 &  0.735587 \\\\\n",
      "v3         &       50 &       0.828638 &     0.662372 &  0.833379 \\\\\n",
      "mini       &       50 &       0.817130 &     0.608801 &  0.834216 \\\\\n",
      "v0.1       &       50 &       0.882683 &     0.696531 &  0.851666 \\\\\n",
      "mini\\_2     &       50 &       0.798464 &     0.730638 &  0.867898 \\\\\n",
      "v1         &       50 &       0.908651 &     0.717755 &  0.879823 \\\\\n",
      "v0.2       &       50 &       0.964567 &     0.802704 &  0.911360 \\\\\n",
      "v0.4       &       50 &       0.957137 &     0.841582 &  0.921333 \\\\\n",
      "v0         &       50 &       0.972969 &     0.830918 &  0.923222 \\\\\n",
      "kaggle     &       50 &       0.741683 &     0.846936 &  0.925756 \\\\\n",
      "v0.3       &       50 &       0.979900 &     0.876505 &  0.936545 \\\\\n",
      "mod        &       50 &       0.890235 &     0.854031 &  0.939174 \\\\\n",
      "mod\\_bn     &       50 &       0.949732 &     0.919133 &  0.964868 \\\\\n",
      "mod\\_bn\\_reg &       50 &       0.800604 &     0.932404 &  0.970287 \\\\\n",
      "\\bottomrule\n",
      "\\end{tabular}\n",
      "\n"
     ]
    }
   ],
   "source": [
    "recognizer_analysis = pd.read_csv(constants.REPORTS_PATH + 'recognizer_analysis.csv')\n",
    "recognizer_analysis_30 = get_mean_with_column_value(recognizer_analysis, 'img_res', 30).drop(columns='initial_lr')\n",
    "recognizer_analysis_50 = get_mean_with_column_value(recognizer_analysis, 'img_res', 50).drop(columns='initial_lr')\n",
    "mean_analysis = pd.concat([recognizer_analysis_30, recognizer_analysis_50])\n",
    "print(mean_analysis.to_latex())"
   ]
  },
  {
   "cell_type": "code",
   "execution_count": 13,
   "metadata": {
    "pycharm": {
     "is_executing": false,
     "name": "#%%\n"
    }
   },
   "outputs": [
    {
     "data": {
      "text/html": [
       "<div>\n",
       "<style scoped>\n",
       "    .dataframe tbody tr th:only-of-type {\n",
       "        vertical-align: middle;\n",
       "    }\n",
       "\n",
       "    .dataframe tbody tr th {\n",
       "        vertical-align: top;\n",
       "    }\n",
       "\n",
       "    .dataframe thead tr th {\n",
       "        text-align: left;\n",
       "    }\n",
       "</style>\n",
       "<table border=\"1\" class=\"dataframe\">\n",
       "  <thead>\n",
       "    <tr>\n",
       "      <th></th>\n",
       "      <th colspan=\"3\" halign=\"left\">30</th>\n",
       "      <th colspan=\"3\" halign=\"left\">50</th>\n",
       "    </tr>\n",
       "    <tr>\n",
       "      <th></th>\n",
       "      <th>max_train_acc</th>\n",
       "      <th>max_val_acc</th>\n",
       "      <th>test_acc</th>\n",
       "      <th>max_train_acc</th>\n",
       "      <th>max_val_acc</th>\n",
       "      <th>test_acc</th>\n",
       "    </tr>\n",
       "  </thead>\n",
       "  <tbody>\n",
       "    <tr>\n",
       "      <td>kaggle</td>\n",
       "      <td>0.861413</td>\n",
       "      <td>0.819541</td>\n",
       "      <td>0.927057</td>\n",
       "      <td>0.741683</td>\n",
       "      <td>0.846936</td>\n",
       "      <td>0.925756</td>\n",
       "    </tr>\n",
       "    <tr>\n",
       "      <td>mini</td>\n",
       "      <td>0.817847</td>\n",
       "      <td>0.629235</td>\n",
       "      <td>0.742738</td>\n",
       "      <td>0.817130</td>\n",
       "      <td>0.608801</td>\n",
       "      <td>0.834216</td>\n",
       "    </tr>\n",
       "    <tr>\n",
       "      <td>mini_2</td>\n",
       "      <td>0.741415</td>\n",
       "      <td>0.681633</td>\n",
       "      <td>0.742282</td>\n",
       "      <td>0.798464</td>\n",
       "      <td>0.730638</td>\n",
       "      <td>0.867898</td>\n",
       "    </tr>\n",
       "    <tr>\n",
       "      <td>mod</td>\n",
       "      <td>0.701400</td>\n",
       "      <td>0.712423</td>\n",
       "      <td>0.866861</td>\n",
       "      <td>0.890235</td>\n",
       "      <td>0.854031</td>\n",
       "      <td>0.939174</td>\n",
       "    </tr>\n",
       "    <tr>\n",
       "      <td>mod_bn</td>\n",
       "      <td>0.807076</td>\n",
       "      <td>0.808622</td>\n",
       "      <td>0.925016</td>\n",
       "      <td>0.949732</td>\n",
       "      <td>0.919133</td>\n",
       "      <td>0.964868</td>\n",
       "    </tr>\n",
       "    <tr>\n",
       "      <td>mod_bn_reg</td>\n",
       "      <td>0.555106</td>\n",
       "      <td>0.542568</td>\n",
       "      <td>0.620807</td>\n",
       "      <td>0.800604</td>\n",
       "      <td>0.932404</td>\n",
       "      <td>0.970287</td>\n",
       "    </tr>\n",
       "    <tr>\n",
       "      <td>v0</td>\n",
       "      <td>0.955045</td>\n",
       "      <td>0.793903</td>\n",
       "      <td>0.910730</td>\n",
       "      <td>0.972969</td>\n",
       "      <td>0.830918</td>\n",
       "      <td>0.923222</td>\n",
       "    </tr>\n",
       "    <tr>\n",
       "      <td>v0.1</td>\n",
       "      <td>0.875961</td>\n",
       "      <td>0.722755</td>\n",
       "      <td>0.875821</td>\n",
       "      <td>0.882683</td>\n",
       "      <td>0.696531</td>\n",
       "      <td>0.851666</td>\n",
       "    </tr>\n",
       "    <tr>\n",
       "      <td>v0.2</td>\n",
       "      <td>0.937346</td>\n",
       "      <td>0.767041</td>\n",
       "      <td>0.900263</td>\n",
       "      <td>0.964567</td>\n",
       "      <td>0.802704</td>\n",
       "      <td>0.911360</td>\n",
       "    </tr>\n",
       "    <tr>\n",
       "      <td>v0.3</td>\n",
       "      <td>0.956618</td>\n",
       "      <td>0.824923</td>\n",
       "      <td>0.914615</td>\n",
       "      <td>0.979900</td>\n",
       "      <td>0.876505</td>\n",
       "      <td>0.936545</td>\n",
       "    </tr>\n",
       "    <tr>\n",
       "      <td>v0.4</td>\n",
       "      <td>0.920103</td>\n",
       "      <td>0.795077</td>\n",
       "      <td>0.899354</td>\n",
       "      <td>0.957137</td>\n",
       "      <td>0.841582</td>\n",
       "      <td>0.921333</td>\n",
       "    </tr>\n",
       "    <tr>\n",
       "      <td>v1</td>\n",
       "      <td>0.838275</td>\n",
       "      <td>0.694745</td>\n",
       "      <td>0.865936</td>\n",
       "      <td>0.908651</td>\n",
       "      <td>0.717755</td>\n",
       "      <td>0.879823</td>\n",
       "    </tr>\n",
       "    <tr>\n",
       "      <td>v2</td>\n",
       "      <td>0.699734</td>\n",
       "      <td>0.548622</td>\n",
       "      <td>0.757278</td>\n",
       "      <td>0.764845</td>\n",
       "      <td>0.509209</td>\n",
       "      <td>0.735587</td>\n",
       "    </tr>\n",
       "    <tr>\n",
       "      <td>v3</td>\n",
       "      <td>0.796925</td>\n",
       "      <td>0.640459</td>\n",
       "      <td>0.829735</td>\n",
       "      <td>0.828638</td>\n",
       "      <td>0.662372</td>\n",
       "      <td>0.833379</td>\n",
       "    </tr>\n",
       "  </tbody>\n",
       "</table>\n",
       "</div>"
      ],
      "text/plain": [
       "                      30                                  50              \\\n",
       "           max_train_acc max_val_acc  test_acc max_train_acc max_val_acc   \n",
       "kaggle          0.861413    0.819541  0.927057      0.741683    0.846936   \n",
       "mini            0.817847    0.629235  0.742738      0.817130    0.608801   \n",
       "mini_2          0.741415    0.681633  0.742282      0.798464    0.730638   \n",
       "mod             0.701400    0.712423  0.866861      0.890235    0.854031   \n",
       "mod_bn          0.807076    0.808622  0.925016      0.949732    0.919133   \n",
       "mod_bn_reg      0.555106    0.542568  0.620807      0.800604    0.932404   \n",
       "v0              0.955045    0.793903  0.910730      0.972969    0.830918   \n",
       "v0.1            0.875961    0.722755  0.875821      0.882683    0.696531   \n",
       "v0.2            0.937346    0.767041  0.900263      0.964567    0.802704   \n",
       "v0.3            0.956618    0.824923  0.914615      0.979900    0.876505   \n",
       "v0.4            0.920103    0.795077  0.899354      0.957137    0.841582   \n",
       "v1              0.838275    0.694745  0.865936      0.908651    0.717755   \n",
       "v2              0.699734    0.548622  0.757278      0.764845    0.509209   \n",
       "v3              0.796925    0.640459  0.829735      0.828638    0.662372   \n",
       "\n",
       "                      \n",
       "            test_acc  \n",
       "kaggle      0.925756  \n",
       "mini        0.834216  \n",
       "mini_2      0.867898  \n",
       "mod         0.939174  \n",
       "mod_bn      0.964868  \n",
       "mod_bn_reg  0.970287  \n",
       "v0          0.923222  \n",
       "v0.1        0.851666  \n",
       "v0.2        0.911360  \n",
       "v0.3        0.936545  \n",
       "v0.4        0.921333  \n",
       "v1          0.879823  \n",
       "v2          0.735587  \n",
       "v3          0.833379  "
      ]
     },
     "execution_count": 13,
     "metadata": {},
     "output_type": "execute_result"
    }
   ],
   "source": [
    "from itertools import product\n",
    "\n",
    "img_res = recognizer_analysis['img_res'].unique()\n",
    "columns = ['max_train_acc', 'max_val_acc', 'test_acc']\n",
    "rows = list(product(img_res, columns))\n",
    "idx = pd.MultiIndex.from_tuples(rows)\n",
    "combination_all_measures = pd.concat([recognizer_analysis_30.drop(columns='img_res')[columns], \n",
    "                                      recognizer_analysis_50.drop(columns='img_res')[columns]], \n",
    "                                     axis=1, sort=True)\n",
    "combination_all_measures = pd.DataFrame(combination_all_measures.values, \n",
    "                                        columns=idx, \n",
    "                                        index=combination_all_measures.index)\n",
    "combination_all_measures"
   ]
  },
  {
   "cell_type": "markdown",
   "metadata": {},
   "source": [
    "**Create table for the report**"
   ]
  },
  {
   "cell_type": "code",
   "execution_count": 14,
   "metadata": {
    "pycharm": {
     "is_executing": false,
     "name": "#%%\n"
    }
   },
   "outputs": [
    {
     "data": {
      "text/html": [
       "<div>\n",
       "<style scoped>\n",
       "    .dataframe tbody tr th:only-of-type {\n",
       "        vertical-align: middle;\n",
       "    }\n",
       "\n",
       "    .dataframe tbody tr th {\n",
       "        vertical-align: top;\n",
       "    }\n",
       "\n",
       "    .dataframe thead tr th {\n",
       "        text-align: left;\n",
       "    }\n",
       "</style>\n",
       "<table border=\"1\" class=\"dataframe\">\n",
       "  <thead>\n",
       "    <tr>\n",
       "      <th></th>\n",
       "      <th colspan=\"3\" halign=\"left\">30</th>\n",
       "      <th colspan=\"3\" halign=\"left\">50</th>\n",
       "    </tr>\n",
       "    <tr>\n",
       "      <th></th>\n",
       "      <th>n params</th>\n",
       "      <th>test acc const</th>\n",
       "      <th>test acc cos</th>\n",
       "      <th>n params</th>\n",
       "      <th>test acc const</th>\n",
       "      <th>test acc cos</th>\n",
       "    </tr>\n",
       "  </thead>\n",
       "  <tbody>\n",
       "    <tr>\n",
       "      <td>kaggle</td>\n",
       "      <td>488,272</td>\n",
       "      <td>93.14</td>\n",
       "      <td>92.27</td>\n",
       "      <td>1,717,072</td>\n",
       "      <td>94.51</td>\n",
       "      <td>88.70</td>\n",
       "    </tr>\n",
       "    <tr>\n",
       "      <td>mini</td>\n",
       "      <td>26,512</td>\n",
       "      <td>72.41</td>\n",
       "      <td>76.13</td>\n",
       "      <td>41,872</td>\n",
       "      <td>81.00</td>\n",
       "      <td>85.85</td>\n",
       "    </tr>\n",
       "    <tr>\n",
       "      <td>mini_2</td>\n",
       "      <td>30,416</td>\n",
       "      <td>72.70</td>\n",
       "      <td>75.76</td>\n",
       "      <td>45,776</td>\n",
       "      <td>85.36</td>\n",
       "      <td>88.22</td>\n",
       "    </tr>\n",
       "    <tr>\n",
       "      <td>mod</td>\n",
       "      <td>76,496</td>\n",
       "      <td>87.27</td>\n",
       "      <td>86.10</td>\n",
       "      <td>230,096</td>\n",
       "      <td>93.86</td>\n",
       "      <td>93.98</td>\n",
       "    </tr>\n",
       "    <tr>\n",
       "      <td>mod_bn</td>\n",
       "      <td>76,624</td>\n",
       "      <td>92.77</td>\n",
       "      <td>92.24</td>\n",
       "      <td>230,224</td>\n",
       "      <td>96.13</td>\n",
       "      <td>96.85</td>\n",
       "    </tr>\n",
       "    <tr>\n",
       "      <td>mod_bn_reg</td>\n",
       "      <td>76,624</td>\n",
       "      <td>51.51</td>\n",
       "      <td>77.94</td>\n",
       "      <td>230,224</td>\n",
       "      <td>95.69</td>\n",
       "      <td>97.54</td>\n",
       "    </tr>\n",
       "    <tr>\n",
       "      <td>v0</td>\n",
       "      <td>247,568</td>\n",
       "      <td>90.09</td>\n",
       "      <td>92.05</td>\n",
       "      <td>575,248</td>\n",
       "      <td>91.18</td>\n",
       "      <td>93.46</td>\n",
       "    </tr>\n",
       "    <tr>\n",
       "      <td>v0.1</td>\n",
       "      <td>247,568</td>\n",
       "      <td>85.48</td>\n",
       "      <td>89.68</td>\n",
       "      <td>575,248</td>\n",
       "      <td>86.54</td>\n",
       "      <td>83.79</td>\n",
       "    </tr>\n",
       "    <tr>\n",
       "      <td>v0.2</td>\n",
       "      <td>247,056</td>\n",
       "      <td>89.06</td>\n",
       "      <td>90.99</td>\n",
       "      <td>574,736</td>\n",
       "      <td>90.62</td>\n",
       "      <td>91.65</td>\n",
       "    </tr>\n",
       "    <tr>\n",
       "      <td>v0.3</td>\n",
       "      <td>246,800</td>\n",
       "      <td>90.63</td>\n",
       "      <td>92.30</td>\n",
       "      <td>574,480</td>\n",
       "      <td>93.16</td>\n",
       "      <td>94.15</td>\n",
       "    </tr>\n",
       "    <tr>\n",
       "      <td>v0.4</td>\n",
       "      <td>246,800</td>\n",
       "      <td>88.81</td>\n",
       "      <td>91.06</td>\n",
       "      <td>574,480</td>\n",
       "      <td>90.75</td>\n",
       "      <td>93.52</td>\n",
       "    </tr>\n",
       "    <tr>\n",
       "      <td>v1</td>\n",
       "      <td>247,568</td>\n",
       "      <td>84.28</td>\n",
       "      <td>88.91</td>\n",
       "      <td>575,248</td>\n",
       "      <td>85.43</td>\n",
       "      <td>90.54</td>\n",
       "    </tr>\n",
       "    <tr>\n",
       "      <td>v2</td>\n",
       "      <td>246,672</td>\n",
       "      <td>72.88</td>\n",
       "      <td>78.58</td>\n",
       "      <td>574,352</td>\n",
       "      <td>69.03</td>\n",
       "      <td>78.08</td>\n",
       "    </tr>\n",
       "    <tr>\n",
       "      <td>v3</td>\n",
       "      <td>246,672</td>\n",
       "      <td>80.56</td>\n",
       "      <td>85.39</td>\n",
       "      <td>574,352</td>\n",
       "      <td>80.50</td>\n",
       "      <td>86.18</td>\n",
       "    </tr>\n",
       "  </tbody>\n",
       "</table>\n",
       "</div>"
      ],
      "text/plain": [
       "                 30                                     50                 \\\n",
       "           n params test acc const test acc cos   n params test acc const   \n",
       "kaggle      488,272          93.14        92.27  1,717,072          94.51   \n",
       "mini         26,512          72.41        76.13     41,872          81.00   \n",
       "mini_2       30,416          72.70        75.76     45,776          85.36   \n",
       "mod          76,496          87.27        86.10    230,096          93.86   \n",
       "mod_bn       76,624          92.77        92.24    230,224          96.13   \n",
       "mod_bn_reg   76,624          51.51        77.94    230,224          95.69   \n",
       "v0          247,568          90.09        92.05    575,248          91.18   \n",
       "v0.1        247,568          85.48        89.68    575,248          86.54   \n",
       "v0.2        247,056          89.06        90.99    574,736          90.62   \n",
       "v0.3        246,800          90.63        92.30    574,480          93.16   \n",
       "v0.4        246,800          88.81        91.06    574,480          90.75   \n",
       "v1          247,568          84.28        88.91    575,248          85.43   \n",
       "v2          246,672          72.88        78.58    574,352          69.03   \n",
       "v3          246,672          80.56        85.39    574,352          80.50   \n",
       "\n",
       "                         \n",
       "           test acc cos  \n",
       "kaggle            88.70  \n",
       "mini              85.85  \n",
       "mini_2            88.22  \n",
       "mod               93.98  \n",
       "mod_bn            96.85  \n",
       "mod_bn_reg        97.54  \n",
       "v0                93.46  \n",
       "v0.1              83.79  \n",
       "v0.2              91.65  \n",
       "v0.3              94.15  \n",
       "v0.4              93.52  \n",
       "v1                90.54  \n",
       "v2                78.08  \n",
       "v3                86.18  "
      ]
     },
     "execution_count": 14,
     "metadata": {},
     "output_type": "execute_result"
    }
   ],
   "source": [
    "ra = recognizer_analysis[['model', 'scheduler', 'img_res', 'test_acc']]\n",
    "ra_30 = ra[ra['img_res'] == 30].drop(columns='img_res')\n",
    "ra_50 = ra[ra['img_res'] == 50].drop(columns='img_res')\n",
    "\n",
    "def filter_scheduler_concat(df):\n",
    "    ra_const = get_mean_with_column_value(df, column='scheduler', value='constant')\n",
    "    ra_const['test_acc'] = ra_const['test_acc'].apply(lambda x: '{:.2f}'.format(100 * x))\n",
    "    ra_const.rename(columns={'test_acc': 'test acc const'}, inplace=True)\n",
    "    \n",
    "    ra_cos = get_mean_with_column_value(df, column='scheduler', value='cosine')\n",
    "    ra_cos['test_acc'] = ra_cos['test_acc'].apply(lambda x: '{:.2f}'.format(100 * x))\n",
    "    ra_cos.rename(columns={'test_acc': 'test acc cos'}, inplace=True)\n",
    "    \n",
    "    return pd.concat([ra_cos, ra_const], axis=1, sort=True)\n",
    "\n",
    "ra_30 = filter_scheduler_concat(ra_30)\n",
    "ra_30['n params'] = n_params_30[ra_30.index].apply(lambda x: '{:,}'.format(x))\n",
    "\n",
    "ra_50 = filter_scheduler_concat(ra_50)\n",
    "ra_50['n params'] = n_params_50[ra_50.index].apply(lambda x: '{:,}'.format(x))\n",
    "\n",
    "columns = ['n params', 'test acc const', 'test acc cos']\n",
    "rows = list(product(['30', '50'], columns))\n",
    "idx = pd.MultiIndex.from_tuples(rows)\n",
    "\n",
    "combination_tests = pd.concat([ra_30[columns],\n",
    "                               ra_50[columns]], \n",
    "                              axis=1, sort=False)\n",
    "combination_tests = pd.DataFrame(combination_tests.values, \n",
    "                                 columns=idx, \n",
    "                                 index=combination_tests.index)\n",
    "combination_tests"
   ]
  },
  {
   "cell_type": "code",
   "execution_count": 15,
   "metadata": {
    "pycharm": {
     "is_executing": false,
     "name": "#%%\n"
    }
   },
   "outputs": [
    {
     "name": "stdout",
     "output_type": "stream",
     "text": [
      "\\begin{tabular}{lllllll}\n",
      "\\toprule\n",
      "{} & \\multicolumn{3}{l}{30} & \\multicolumn{3}{l}{50} \\\\\n",
      "{} & n params & test acc const & test acc cos &   n params & test acc const & test acc cos \\\\\n",
      "\\midrule\n",
      "kaggle     &  488,272 &          93.14 &        92.27 &  1,717,072 &          94.51 &        88.70 \\\\\n",
      "mini       &   26,512 &          72.41 &        76.13 &     41,872 &          81.00 &        85.85 \\\\\n",
      "mini\\_2     &   30,416 &          72.70 &        75.76 &     45,776 &          85.36 &        88.22 \\\\\n",
      "mod        &   76,496 &          87.27 &        86.10 &    230,096 &          93.86 &        93.98 \\\\\n",
      "mod\\_bn     &   76,624 &          92.77 &        92.24 &    230,224 &          96.13 &        96.85 \\\\\n",
      "mod\\_bn\\_reg &   76,624 &          51.51 &        77.94 &    230,224 &          95.69 &        97.54 \\\\\n",
      "v0         &  247,568 &          90.09 &        92.05 &    575,248 &          91.18 &        93.46 \\\\\n",
      "v0.1       &  247,568 &          85.48 &        89.68 &    575,248 &          86.54 &        83.79 \\\\\n",
      "v0.2       &  247,056 &          89.06 &        90.99 &    574,736 &          90.62 &        91.65 \\\\\n",
      "v0.3       &  246,800 &          90.63 &        92.30 &    574,480 &          93.16 &        94.15 \\\\\n",
      "v0.4       &  246,800 &          88.81 &        91.06 &    574,480 &          90.75 &        93.52 \\\\\n",
      "v1         &  247,568 &          84.28 &        88.91 &    575,248 &          85.43 &        90.54 \\\\\n",
      "v2         &  246,672 &          72.88 &        78.58 &    574,352 &          69.03 &        78.08 \\\\\n",
      "v3         &  246,672 &          80.56 &        85.39 &    574,352 &          80.50 &        86.18 \\\\\n",
      "\\bottomrule\n",
      "\\end{tabular}\n",
      "\n"
     ]
    }
   ],
   "source": [
    "print(combination_tests.to_latex())"
   ]
  },
  {
   "cell_type": "code",
   "execution_count": 16,
   "metadata": {
    "pycharm": {
     "is_executing": false,
     "name": "#%%\n"
    }
   },
   "outputs": [],
   "source": [
    "### Effect of using more agressive data augmentation"
   ]
  },
  {
   "cell_type": "code",
   "execution_count": 17,
   "metadata": {
    "pycharm": {
     "is_executing": false,
     "name": "#%%\n"
    }
   },
   "outputs": [
    {
     "data": {
      "text/html": [
       "<div>\n",
       "<style scoped>\n",
       "    .dataframe tbody tr th:only-of-type {\n",
       "        vertical-align: middle;\n",
       "    }\n",
       "\n",
       "    .dataframe tbody tr th {\n",
       "        vertical-align: top;\n",
       "    }\n",
       "\n",
       "    .dataframe thead th {\n",
       "        text-align: right;\n",
       "    }\n",
       "</style>\n",
       "<table border=\"1\" class=\"dataframe\">\n",
       "  <thead>\n",
       "    <tr style=\"text-align: right;\">\n",
       "      <th></th>\n",
       "      <th>model</th>\n",
       "      <th>scheduler</th>\n",
       "      <th>img_res</th>\n",
       "      <th>initial_lr</th>\n",
       "      <th>augmentation</th>\n",
       "      <th>max_train_acc</th>\n",
       "      <th>max_val_acc</th>\n",
       "      <th>test_acc</th>\n",
       "    </tr>\n",
       "  </thead>\n",
       "  <tbody>\n",
       "    <tr>\n",
       "      <td>235</td>\n",
       "      <td>mod_bn_reg</td>\n",
       "      <td>cosine</td>\n",
       "      <td>50</td>\n",
       "      <td>0.002</td>\n",
       "      <td>simple</td>\n",
       "      <td>0.956530</td>\n",
       "      <td>0.926275</td>\n",
       "      <td>0.962133</td>\n",
       "    </tr>\n",
       "    <tr>\n",
       "      <td>236</td>\n",
       "      <td>mod_bn_reg</td>\n",
       "      <td>cosine</td>\n",
       "      <td>50</td>\n",
       "      <td>0.002</td>\n",
       "      <td>simple</td>\n",
       "      <td>0.959052</td>\n",
       "      <td>0.941327</td>\n",
       "      <td>0.972975</td>\n",
       "    </tr>\n",
       "    <tr>\n",
       "      <td>237</td>\n",
       "      <td>mod_bn_reg</td>\n",
       "      <td>cosine</td>\n",
       "      <td>50</td>\n",
       "      <td>0.002</td>\n",
       "      <td>simple</td>\n",
       "      <td>0.952790</td>\n",
       "      <td>0.917857</td>\n",
       "      <td>0.960300</td>\n",
       "    </tr>\n",
       "    <tr>\n",
       "      <td>238</td>\n",
       "      <td>mod_bn_reg</td>\n",
       "      <td>cosine</td>\n",
       "      <td>50</td>\n",
       "      <td>0.002</td>\n",
       "      <td>simple</td>\n",
       "      <td>0.955992</td>\n",
       "      <td>0.927041</td>\n",
       "      <td>0.967315</td>\n",
       "    </tr>\n",
       "    <tr>\n",
       "      <td>239</td>\n",
       "      <td>mod_bn_reg</td>\n",
       "      <td>cosine</td>\n",
       "      <td>50</td>\n",
       "      <td>0.002</td>\n",
       "      <td>simple</td>\n",
       "      <td>0.949446</td>\n",
       "      <td>0.928571</td>\n",
       "      <td>0.958785</td>\n",
       "    </tr>\n",
       "    <tr>\n",
       "      <td>280</td>\n",
       "      <td>mod_bn_reg</td>\n",
       "      <td>cosine</td>\n",
       "      <td>50</td>\n",
       "      <td>0.002</td>\n",
       "      <td>v1</td>\n",
       "      <td>0.628807</td>\n",
       "      <td>0.964063</td>\n",
       "      <td>0.986269</td>\n",
       "    </tr>\n",
       "    <tr>\n",
       "      <td>281</td>\n",
       "      <td>mod_bn_reg</td>\n",
       "      <td>cosine</td>\n",
       "      <td>50</td>\n",
       "      <td>0.002</td>\n",
       "      <td>v1</td>\n",
       "      <td>0.628182</td>\n",
       "      <td>0.957812</td>\n",
       "      <td>0.985480</td>\n",
       "    </tr>\n",
       "    <tr>\n",
       "      <td>282</td>\n",
       "      <td>mod_bn_reg</td>\n",
       "      <td>cosine</td>\n",
       "      <td>50</td>\n",
       "      <td>0.002</td>\n",
       "      <td>v1</td>\n",
       "      <td>0.625938</td>\n",
       "      <td>0.956250</td>\n",
       "      <td>0.985322</td>\n",
       "    </tr>\n",
       "    <tr>\n",
       "      <td>283</td>\n",
       "      <td>mod_bn_reg</td>\n",
       "      <td>cosine</td>\n",
       "      <td>50</td>\n",
       "      <td>0.002</td>\n",
       "      <td>v1</td>\n",
       "      <td>0.578949</td>\n",
       "      <td>0.921094</td>\n",
       "      <td>0.976010</td>\n",
       "    </tr>\n",
       "    <tr>\n",
       "      <td>284</td>\n",
       "      <td>mod_bn_reg</td>\n",
       "      <td>cosine</td>\n",
       "      <td>50</td>\n",
       "      <td>0.002</td>\n",
       "      <td>v1</td>\n",
       "      <td>0.618949</td>\n",
       "      <td>0.951042</td>\n",
       "      <td>0.983507</td>\n",
       "    </tr>\n",
       "    <tr>\n",
       "      <td>290</td>\n",
       "      <td>mod_bn_reg</td>\n",
       "      <td>cosine</td>\n",
       "      <td>50</td>\n",
       "      <td>0.002</td>\n",
       "      <td>v1</td>\n",
       "      <td>0.641364</td>\n",
       "      <td>0.960677</td>\n",
       "      <td>0.986821</td>\n",
       "    </tr>\n",
       "    <tr>\n",
       "      <td>296</td>\n",
       "      <td>mod_bn_reg</td>\n",
       "      <td>cosine</td>\n",
       "      <td>50</td>\n",
       "      <td>0.005</td>\n",
       "      <td>v1</td>\n",
       "      <td>0.552216</td>\n",
       "      <td>0.910677</td>\n",
       "      <td>0.967251</td>\n",
       "    </tr>\n",
       "    <tr>\n",
       "      <td>297</td>\n",
       "      <td>mod_bn_reg</td>\n",
       "      <td>cosine</td>\n",
       "      <td>50</td>\n",
       "      <td>0.005</td>\n",
       "      <td>v1</td>\n",
       "      <td>0.661705</td>\n",
       "      <td>0.983333</td>\n",
       "      <td>0.988557</td>\n",
       "    </tr>\n",
       "  </tbody>\n",
       "</table>\n",
       "</div>"
      ],
      "text/plain": [
       "          model scheduler  img_res  initial_lr augmentation  max_train_acc  \\\n",
       "235  mod_bn_reg    cosine       50       0.002       simple       0.956530   \n",
       "236  mod_bn_reg    cosine       50       0.002       simple       0.959052   \n",
       "237  mod_bn_reg    cosine       50       0.002       simple       0.952790   \n",
       "238  mod_bn_reg    cosine       50       0.002       simple       0.955992   \n",
       "239  mod_bn_reg    cosine       50       0.002       simple       0.949446   \n",
       "280  mod_bn_reg    cosine       50       0.002           v1       0.628807   \n",
       "281  mod_bn_reg    cosine       50       0.002           v1       0.628182   \n",
       "282  mod_bn_reg    cosine       50       0.002           v1       0.625938   \n",
       "283  mod_bn_reg    cosine       50       0.002           v1       0.578949   \n",
       "284  mod_bn_reg    cosine       50       0.002           v1       0.618949   \n",
       "290  mod_bn_reg    cosine       50       0.002           v1       0.641364   \n",
       "296  mod_bn_reg    cosine       50       0.005           v1       0.552216   \n",
       "297  mod_bn_reg    cosine       50       0.005           v1       0.661705   \n",
       "\n",
       "     max_val_acc  test_acc  \n",
       "235     0.926275  0.962133  \n",
       "236     0.941327  0.972975  \n",
       "237     0.917857  0.960300  \n",
       "238     0.927041  0.967315  \n",
       "239     0.928571  0.958785  \n",
       "280     0.964063  0.986269  \n",
       "281     0.957812  0.985480  \n",
       "282     0.956250  0.985322  \n",
       "283     0.921094  0.976010  \n",
       "284     0.951042  0.983507  \n",
       "290     0.960677  0.986821  \n",
       "296     0.910677  0.967251  \n",
       "297     0.983333  0.988557  "
      ]
     },
     "execution_count": 17,
     "metadata": {},
     "output_type": "execute_result"
    }
   ],
   "source": [
    "ra_data = pd.read_csv(constants.REPORTS_PATH + 'recognizer_analysis.csv')\n",
    "# ['augmentation'] == 'simple'\n",
    "ra_data = ra_data[(ra_data['model'] == 'mod_bn_reg')\n",
    "                  & (ra_data['img_res'] == 50)\n",
    "                  & (ra_data['scheduler'] == 'cosine')]\n",
    "ra_data"
   ]
  },
  {
   "cell_type": "code",
   "execution_count": 18,
   "metadata": {
    "pycharm": {
     "is_executing": false,
     "name": "#%%\n"
    }
   },
   "outputs": [
    {
     "data": {
      "text/html": [
       "<div>\n",
       "<style scoped>\n",
       "    .dataframe tbody tr th:only-of-type {\n",
       "        vertical-align: middle;\n",
       "    }\n",
       "\n",
       "    .dataframe tbody tr th {\n",
       "        vertical-align: top;\n",
       "    }\n",
       "\n",
       "    .dataframe thead th {\n",
       "        text-align: right;\n",
       "    }\n",
       "</style>\n",
       "<table border=\"1\" class=\"dataframe\">\n",
       "  <thead>\n",
       "    <tr style=\"text-align: right;\">\n",
       "      <th></th>\n",
       "      <th>img_res</th>\n",
       "      <th>initial_lr</th>\n",
       "      <th>max_train_acc</th>\n",
       "      <th>max_val_acc</th>\n",
       "      <th>test_acc</th>\n",
       "    </tr>\n",
       "    <tr>\n",
       "      <th>augmentation</th>\n",
       "      <th></th>\n",
       "      <th></th>\n",
       "      <th></th>\n",
       "      <th></th>\n",
       "      <th></th>\n",
       "    </tr>\n",
       "  </thead>\n",
       "  <tbody>\n",
       "    <tr>\n",
       "      <td>simple</td>\n",
       "      <td>50</td>\n",
       "      <td>0.00200</td>\n",
       "      <td>0.954762</td>\n",
       "      <td>0.928214</td>\n",
       "      <td>0.964302</td>\n",
       "    </tr>\n",
       "    <tr>\n",
       "      <td>v1</td>\n",
       "      <td>50</td>\n",
       "      <td>0.00275</td>\n",
       "      <td>0.617013</td>\n",
       "      <td>0.950618</td>\n",
       "      <td>0.982402</td>\n",
       "    </tr>\n",
       "  </tbody>\n",
       "</table>\n",
       "</div>"
      ],
      "text/plain": [
       "              img_res  initial_lr  max_train_acc  max_val_acc  test_acc\n",
       "augmentation                                                           \n",
       "simple             50     0.00200       0.954762     0.928214  0.964302\n",
       "v1                 50     0.00275       0.617013     0.950618  0.982402"
      ]
     },
     "execution_count": 18,
     "metadata": {},
     "output_type": "execute_result"
    }
   ],
   "source": [
    "ra_data.groupby('augmentation').mean()"
   ]
  },
  {
   "cell_type": "code",
   "execution_count": 19,
   "metadata": {
    "pycharm": {
     "is_executing": false,
     "name": "#%%\n"
    }
   },
   "outputs": [
    {
     "name": "stdout",
     "output_type": "stream",
     "text": [
      "\\begin{tabular}{lrrrrr}\n",
      "\\toprule\n",
      "{} &  img\\_res &  initial\\_lr &  max\\_train\\_acc &  max\\_val\\_acc &  test\\_acc \\\\\n",
      "augmentation &          &             &                &              &           \\\\\n",
      "\\midrule\n",
      "simple       &       50 &     0.00200 &       0.954762 &     0.928214 &  0.964302 \\\\\n",
      "v1           &       50 &     0.00275 &       0.617013 &     0.950618 &  0.982402 \\\\\n",
      "\\bottomrule\n",
      "\\end{tabular}\n",
      "\n"
     ]
    }
   ],
   "source": [
    "print(ra_data.groupby('augmentation').mean().to_latex())"
   ]
  },
  {
   "cell_type": "code",
   "execution_count": 20,
   "metadata": {
    "pycharm": {
     "is_executing": false,
     "name": "#%%\n"
    }
   },
   "outputs": [
    {
     "data": {
      "text/html": [
       "<div>\n",
       "<style scoped>\n",
       "    .dataframe tbody tr th:only-of-type {\n",
       "        vertical-align: middle;\n",
       "    }\n",
       "\n",
       "    .dataframe tbody tr th {\n",
       "        vertical-align: top;\n",
       "    }\n",
       "\n",
       "    .dataframe thead th {\n",
       "        text-align: right;\n",
       "    }\n",
       "</style>\n",
       "<table border=\"1\" class=\"dataframe\">\n",
       "  <thead>\n",
       "    <tr style=\"text-align: right;\">\n",
       "      <th></th>\n",
       "      <th>test_acc</th>\n",
       "    </tr>\n",
       "    <tr>\n",
       "      <th>scheduler</th>\n",
       "      <th></th>\n",
       "    </tr>\n",
       "  </thead>\n",
       "  <tbody>\n",
       "    <tr>\n",
       "      <td>constant</td>\n",
       "      <td>0.805942</td>\n",
       "    </tr>\n",
       "    <tr>\n",
       "      <td>cosine</td>\n",
       "      <td>0.862665</td>\n",
       "    </tr>\n",
       "  </tbody>\n",
       "</table>\n",
       "</div>"
      ],
      "text/plain": [
       "           test_acc\n",
       "scheduler          \n",
       "constant   0.805942\n",
       "cosine     0.862665"
      ]
     },
     "execution_count": 20,
     "metadata": {},
     "output_type": "execute_result"
    }
   ],
   "source": [
    "ra = recognizer_analysis[['model', 'scheduler', 'img_res', 'test_acc']]\n",
    "ra_30 = ra[ra['img_res'] == 30].drop(columns='img_res')\n",
    "ra_30.groupby(by='scheduler').mean()"
   ]
  },
  {
   "cell_type": "code",
   "execution_count": 21,
   "metadata": {
    "pycharm": {
     "is_executing": false,
     "name": "#%%\n"
    }
   },
   "outputs": [
    {
     "data": {
      "text/html": [
       "<div>\n",
       "<style scoped>\n",
       "    .dataframe tbody tr th:only-of-type {\n",
       "        vertical-align: middle;\n",
       "    }\n",
       "\n",
       "    .dataframe tbody tr th {\n",
       "        vertical-align: top;\n",
       "    }\n",
       "\n",
       "    .dataframe thead th {\n",
       "        text-align: right;\n",
       "    }\n",
       "</style>\n",
       "<table border=\"1\" class=\"dataframe\">\n",
       "  <thead>\n",
       "    <tr style=\"text-align: right;\">\n",
       "      <th></th>\n",
       "      <th>test_acc</th>\n",
       "    </tr>\n",
       "    <tr>\n",
       "      <th>scheduler</th>\n",
       "      <th></th>\n",
       "    </tr>\n",
       "  </thead>\n",
       "  <tbody>\n",
       "    <tr>\n",
       "      <td>constant</td>\n",
       "      <td>0.885510</td>\n",
       "    </tr>\n",
       "    <tr>\n",
       "      <td>cosine</td>\n",
       "      <td>0.909346</td>\n",
       "    </tr>\n",
       "  </tbody>\n",
       "</table>\n",
       "</div>"
      ],
      "text/plain": [
       "           test_acc\n",
       "scheduler          \n",
       "constant   0.885510\n",
       "cosine     0.909346"
      ]
     },
     "execution_count": 21,
     "metadata": {},
     "output_type": "execute_result"
    }
   ],
   "source": [
    "ra_50 = ra[ra['img_res'] == 50].drop(columns='img_res')\n",
    "ra_50.groupby(by='scheduler').mean()"
   ]
  }
 ],
 "metadata": {
  "kernelspec": {
   "display_name": "Python 3",
   "language": "python",
   "name": "python3"
  },
  "language_info": {
   "codemirror_mode": {
    "name": "ipython",
    "version": 3
   },
   "file_extension": ".py",
   "mimetype": "text/x-python",
   "name": "python",
   "nbconvert_exporter": "python",
   "pygments_lexer": "ipython3",
   "version": "3.7.4"
  },
  "pycharm": {
   "stem_cell": {
    "cell_type": "raw",
    "metadata": {
     "collapsed": false
    },
    "source": []
   }
  }
 },
 "nbformat": 4,
 "nbformat_minor": 1
}
